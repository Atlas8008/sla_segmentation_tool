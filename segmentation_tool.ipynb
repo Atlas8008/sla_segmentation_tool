{
 "cells": [
  {
   "cell_type": "markdown",
   "metadata": {},
   "source": [
    "# Necessary parameters"
   ]
  },
  {
   "cell_type": "code",
   "execution_count": null,
   "metadata": {
    "ExecuteTime": {
     "end_time": "2022-05-06T14:48:25.612299Z",
     "start_time": "2022-05-06T14:48:25.608528Z"
    }
   },
   "outputs": [],
   "source": [
    "# The name of the directory containing the scans. Currently allowed image formats for the \n",
    "# scans are jpeg, tiff and png.\n",
    "dirname = r\"\" #r\"/home/mkoerschens/datasets/Scans/Franzi/mini\" \n",
    "\n",
    "# Determine, if subdirectories should be included in the image file search.\n",
    "# True - Also searches for images in subdirectories\n",
    "# False - Only uses images from the specified dirname directory\n",
    "recursive = True\n",
    "\n",
    "# The DPI of the scans\n",
    "dpi = 600\n",
    "\n",
    "# The path where the result table will be saved. Should be a .csv file\n",
    "save_path = r\"table.csv\""
   ]
  },
  {
   "cell_type": "markdown",
   "metadata": {},
   "source": [
    "# Optional parameters"
   ]
  },
  {
   "cell_type": "code",
   "execution_count": null,
   "metadata": {
    "ExecuteTime": {
     "end_time": "2022-05-06T14:48:25.617698Z",
     "start_time": "2022-05-06T14:48:25.614542Z"
    }
   },
   "outputs": [],
   "source": [
    "# Before processing the image, parts of the border are cropped to prevent objects being detected\n",
    "# at the image borders, which are usually irregular. This value designates the percentage \n",
    "# to be cropped on each side. A value of 0.02 removes 2% of the image from the top, bottom, \n",
    "# left and right of the image\n",
    "# Default: 0.02\n",
    "border_crop_relative = 0.02\n",
    "\n",
    "# This value designates, how strongly neighboring pixels may differ to still be considered background during the\n",
    "# initial segmentation. Higher values include more 'shadowy' pixels in the background, but may also include \n",
    "# parts of the plants. The default values 0.01 should work for most cases, but feel free to change the values,\n",
    "# if too little shadow or bigger parts of the plants are designated as background. \n",
    "# Default: 0.01\n",
    "floodfill_tolerance = 0.02 #35 #0.0115\n",
    "\n",
    "# The image is being resized to increase processing speed at the cost of exactness of the result of the area.\n",
    "# This value designates, to how many pixels the longer side of the image should be rescaled \n",
    "# while keeping the aspect ratio of the image.\n",
    "# The default value 1024 should be a good trade-off between speed and accuracy and should work well for most cases,\n",
    "# while keeping the exactness error negligible. Try out different values at your own risk.\n",
    "# Default: 1024\n",
    "image_size_bigger_side = 1024\n",
    "\n",
    "# This value is a threshold, determining if an component is too small to be kept in the segmentation. \n",
    "# It is a value relative to the size of the complete image, i.e. if the value is 0.1 all object with a size\n",
    "# smaller than 10% of the image are being removed.\n",
    "small_component_erase_percentage_threshold = 2e-4"
   ]
  },
  {
   "cell_type": "code",
   "execution_count": null,
   "metadata": {
    "ExecuteTime": {
     "end_time": "2022-05-06T14:48:25.911354Z",
     "start_time": "2022-05-06T14:48:25.622185Z"
    }
   },
   "outputs": [],
   "source": [
    "from python.execution import run_segmentation"
   ]
  },
  {
   "cell_type": "code",
   "execution_count": null,
   "metadata": {
    "ExecuteTime": {
     "end_time": "2022-05-06T15:13:03.560329Z",
     "start_time": "2022-05-06T14:48:25.912614Z"
    }
   },
   "outputs": [],
   "source": [
    "df = run_segmentation(\n",
    "    dirname=dirname,\n",
    "    recursive=recursive,\n",
    "    dpi=dpi,\n",
    "    save_path=save_path,\n",
    "    border_crop_relative=border_crop_relative,\n",
    "    floodfill_tolerance=floodfill_tolerance,\n",
    "    image_size_bigger_side=image_size_bigger_side,\n",
    "    small_component_erase_percentage_threshold=small_component_erase_percentage_threshold,\n",
    ")"
   ]
  },
  {
   "cell_type": "code",
   "execution_count": null,
   "metadata": {
    "ExecuteTime": {
     "end_time": "2022-05-06T15:13:03.595708Z",
     "start_time": "2022-05-06T15:13:03.577024Z"
    }
   },
   "outputs": [],
   "source": [
    "df"
   ]
  }
 ],
 "metadata": {
  "kernelspec": {
   "display_name": "Python 3",
   "language": "python",
   "name": "python3"
  },
  "language_info": {
   "codemirror_mode": {
    "name": "ipython",
    "version": 3
   },
   "file_extension": ".py",
   "mimetype": "text/x-python",
   "name": "python",
   "nbconvert_exporter": "python",
   "pygments_lexer": "ipython3",
   "version": "3.7.5"
  }
 },
 "nbformat": 4,
 "nbformat_minor": 2
}
